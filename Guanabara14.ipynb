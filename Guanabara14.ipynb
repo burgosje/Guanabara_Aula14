{
  "cells": [
    {
      "cell_type": "markdown",
      "metadata": {
        "id": "view-in-github",
        "colab_type": "text"
      },
      "source": [
        "<a href=\"https://colab.research.google.com/github/burgosje/Guanabara_Aula14/blob/main/Guanabara14.ipynb\" target=\"_parent\"><img src=\"https://colab.research.google.com/assets/colab-badge.svg\" alt=\"Open In Colab\"/></a>"
      ]
    },
    {
      "cell_type": "markdown",
      "source": [
        "Aula 14 Curso em Vídeo Guanabara\n"
      ],
      "metadata": {
        "id": "YdAe-UZlsDEu"
      }
    },
    {
      "cell_type": "markdown",
      "metadata": {
        "id": "d_dysCLiN3RZ"
      },
      "source": [
        "Repetições while /\n",
        "Estrutura de repetição com teste lógico"
      ]
    },
    {
      "cell_type": "code",
      "execution_count": null,
      "metadata": {
        "id": "evv0Jl7dQ-rU"
      },
      "outputs": [],
      "source": [
        "'''for c in range (1, 10):\n",
        "  print(c)\n",
        "print('Fim')'''\n",
        "\n",
        "c = 1\n",
        "while c < 10:\n",
        "  print(c)\n",
        "  c += 1\n",
        "print('Fim')"
      ]
    },
    {
      "cell_type": "code",
      "execution_count": null,
      "metadata": {
        "id": "ndUZzW80Rfpm"
      },
      "outputs": [],
      "source": [
        "for c in range (1, 5):\n",
        "  n = int(input('Digite um valor: '))\n",
        "print('Fim')"
      ]
    },
    {
      "cell_type": "code",
      "execution_count": null,
      "metadata": {
        "colab": {
          "base_uri": "https://localhost:8080/"
        },
        "id": "9GKLah2-R9jR",
        "outputId": "d5da335f-64bf-4e48-ce9c-07355f979093"
      },
      "outputs": [
        {
          "name": "stdout",
          "output_type": "stream",
          "text": [
            "Digite um valor: 4\n",
            "Digite um valor: 5\n",
            "Digite um valor: 6\n",
            "Digite um valor: 4\n",
            "Digite um valor: 0\n"
          ]
        }
      ],
      "source": [
        "n = 1\n",
        "while n != 0:\n",
        "  n = int(input('Digite um valor: '))"
      ]
    },
    {
      "cell_type": "code",
      "execution_count": null,
      "metadata": {
        "id": "jhEubPbsSMrk"
      },
      "outputs": [],
      "source": [
        "r = 'S'\n",
        "while r == 'S':\n",
        "  n = int(input('Digite um valor: '))\n",
        "  r = input('Quer continuar? [S/N] ').upper()"
      ]
    },
    {
      "cell_type": "code",
      "execution_count": null,
      "metadata": {
        "id": "VzyshGmSS8kr"
      },
      "outputs": [],
      "source": [
        "n = 1\n",
        "par = impar = 0\n",
        "\n",
        "while n != 0:\n",
        "  n = int(input('Digite um valor: '))\n",
        "  if n != 0:\n",
        "    if n% 2 == 0:\n",
        "      par += 1\n",
        "    else:\n",
        "      impar += 1\n",
        "print(f'Você digitou {par} números pares e {impar} números ímpares')\n"
      ]
    },
    {
      "cell_type": "code",
      "execution_count": null,
      "metadata": {
        "colab": {
          "base_uri": "https://localhost:8080/"
        },
        "id": "gpybjNhbWwme",
        "outputId": "71e29702-4957-4c4a-bda9-4b6899fd38b4"
      },
      "outputs": [
        {
          "name": "stdout",
          "output_type": "stream",
          "text": [
            "Informe seu sexo: [M/F] g\n",
            "Dados inválidos. Por favor, informe seu sexo:M\n",
            "Sexo M registrado com sucesso\n"
          ]
        }
      ],
      "source": [
        "sexo = input('Informe seu sexo: [M/F] ').strip().upper()\n",
        "\n",
        "while sexo not in 'MmFm':\n",
        "  sexo = input('Dados inválidos. Por favor, informe seu sexo:').strip().upper()\n",
        "print(f'Sexo {sexo} registrado com sucesso')"
      ]
    },
    {
      "cell_type": "code",
      "execution_count": null,
      "metadata": {
        "colab": {
          "base_uri": "https://localhost:8080/"
        },
        "id": "7PBuCR37YtED",
        "outputId": "65425012-8521-4f24-d17d-6e9d9fb40243"
      },
      "outputs": [
        {
          "name": "stdout",
          "output_type": "stream",
          "text": [
            "Vou pensar em um número entre 0 e 10. Tente adivinhar!\n",
            "Qual é o seu palpite? 5\n",
            "Mais\n",
            "Qual é o seu palpite? 8\n",
            "Mais\n",
            "Qual é o seu palpite? 9\n",
            "Mais\n",
            "Qual é o seu palpite? 10\n",
            "Acertou com 4 tentativas\n"
          ]
        }
      ],
      "source": [
        "from random import randint\n",
        "computador = randint (0, 10)\n",
        "\n",
        "print('Vou pensar em um número entre 0 e 10. Tente adivinhar!')\n",
        "\n",
        "acertou = False\n",
        "palpites = 0\n",
        "\n",
        "while not acertou:\n",
        "  jogador = int(input('Qual é o seu palpite? '))\n",
        "  palpites += 1\n",
        "  if jogador == computador:\n",
        "    acertou = True\n",
        "  else:\n",
        "    if jogador < computador:\n",
        "      print('Mais')\n",
        "    elif jogador > computador:\n",
        "      print('Menos')\n",
        "print(f'Acertou com {palpites} tentativas')"
      ]
    },
    {
      "cell_type": "code",
      "execution_count": null,
      "metadata": {
        "colab": {
          "background_save": true
        },
        "id": "WseqKIZZcj1O"
      },
      "outputs": [],
      "source": [
        "num1 = int(input('Digite o primeiro valor: '))\n",
        "num2 = int(input('Digite o segundo valor: '))\n",
        "\n",
        "opcao = 0\n",
        "\n",
        "while opcao != 5:\n",
        "  print('''Escolha uma das alternativas\n",
        "  [ 1 ] Somar\n",
        "  [ 2 ] Multiplicar\n",
        "  [ 3 ] Maior\n",
        "  [ 4 ] Novos números\n",
        "  [ 5 ] Sair do programa''')\n",
        "  opcao = int(input('Qual é a sua opção? '))\n",
        "  if opcao == 1:\n",
        "    soma = num1 + num2\n",
        "    print(f'A soma entre {num1} e {num2} é {soma}')\n",
        "  elif opcao == 2:\n",
        "    produto = num1 * num2\n",
        "    print(f'A multiplicação de {num1} por {num2} igual a {produto}')\n",
        "  elif opcao == 3:\n",
        "      if num1 > num2:\n",
        "        maior = num1\n",
        "      else:\n",
        "        maior = num2\n",
        "      print(f'Entre {num1} e {num2}, o maior é {maior}')\n",
        "  elif opcao == 4:\n",
        "      print('Informe os números novamente')\n",
        "      num1 = int(input('Primeiro valor: '))\n",
        "      num2 = int(input('Segundo valor: '))\n",
        "  elif opcao == 5:\n",
        "      print('Finalizando')\n",
        "  else:\n",
        "    print('Opção inválida')\n",
        "print('Fim do programa')"
      ]
    },
    {
      "cell_type": "code",
      "source": [
        "#Faça um programa que leia um número qualquer e mostre o seu fatorial\n",
        "#Ex: 5! 5x4x3x2x1=120\n",
        "\n",
        "from math import factorial\n",
        "\n",
        "n = int(input(\"Digite um número para calcular seu fatorial: \"))\n",
        "f= factorial(n)\n",
        "\n",
        "print(f\"O fatorail de {n} é {f}\")"
      ],
      "metadata": {
        "colab": {
          "base_uri": "https://localhost:8080/"
        },
        "id": "3pnFGsTSEyBv",
        "outputId": "36f76b76-3889-4b94-e0cf-84d7acbd8778"
      },
      "execution_count": null,
      "outputs": [
        {
          "output_type": "stream",
          "name": "stdout",
          "text": [
            "Digite um número para calcular seu fatorial: 5\n",
            "O fatorail de5 é 120\n"
          ]
        }
      ]
    },
    {
      "cell_type": "code",
      "source": [
        "#Faça um programa que leia um número qualquer e mostre o seu fatorial\n",
        "#Ex: 5! 5x4x3x2x1=120\n",
        "\n",
        "n = int(input(\"Digite um número para calcular seu fatorial: \"))\n",
        "c = n\n",
        "f = 1\n",
        "\n",
        "print(f\"Calculando {n}!\")\n",
        "\n",
        "while c > 0:\n",
        "  print(f\"{c}\", end=\" \")\n",
        "  print(\"x\" if c > 1 else \" = \", end = \" \")\n",
        "  f *= c\n",
        "  c -= 1\n",
        "\n",
        "print(f\"{f}\")"
      ],
      "metadata": {
        "colab": {
          "base_uri": "https://localhost:8080/"
        },
        "id": "AkC5l_KsFvG1",
        "outputId": "0a6b291b-ded1-4917-b168-aa04ca1cb88c"
      },
      "execution_count": null,
      "outputs": [
        {
          "output_type": "stream",
          "name": "stdout",
          "text": [
            "Digite um número para calcular seu fatorial: 5\n",
            "Calculando 5!\n",
            "5 x 4 x 3 x 2 x 1  =  120\n"
          ]
        }
      ]
    },
    {
      "cell_type": "code",
      "source": [
        "#Qual o primeiro termo e a razão de uma PA, mostrando os 10 primeiros termos da\n",
        "#progressão usando a estrutura while\n",
        "\n",
        "primeiro = int(input('Primeiro termo: '))\n",
        "razao = int(input('Razão da PA: '))\n",
        "termo = primeiro\n",
        "cont = 1\n",
        "\n",
        "while cont <= 10:\n",
        "  print(f\"{termo} - \", end=\"\")\n",
        "  termo += razao\n",
        "  cont += 1\n",
        "\n",
        "print(\"Fim\")"
      ],
      "metadata": {
        "colab": {
          "base_uri": "https://localhost:8080/"
        },
        "id": "BxhTMPElJOf2",
        "outputId": "cc7f164a-f5de-49b4-9671-853dda67767f"
      },
      "execution_count": null,
      "outputs": [
        {
          "output_type": "stream",
          "name": "stdout",
          "text": [
            "Primeiro termo: 0\n",
            "Razão da PA: 5\n",
            "0 - 5 - 10 - 15 - 20 - 25 - 30 - 35 - 40 - 45 - Fim\n"
          ]
        }
      ]
    },
    {
      "cell_type": "code",
      "source": [
        "primeiro = int(input(\"Primeiro termo: \"))\n",
        "razao = int(input(\"Razão da PA: \"))\n",
        "termo = primeiro\n",
        "cont = 1\n",
        "total = 0\n",
        "mais = 10\n",
        "\n",
        "while mais != 0:\n",
        "  total = total + mais\n",
        "  while cont <= total:\n",
        "    print(f\"{termo} - \", end = \"\")\n",
        "    termo += razao\n",
        "    cont += 1\n",
        "  print(\"Pausa\")\n",
        "  mais = int(input(\"Quantos termos você quer mostrar a mais? \"))\n",
        "\n",
        "print('Fim')"
      ],
      "metadata": {
        "colab": {
          "base_uri": "https://localhost:8080/"
        },
        "id": "I3mU-gPzK5fF",
        "outputId": "cd38c98c-d283-441a-b20a-ab4fbc0bf5e3"
      },
      "execution_count": null,
      "outputs": [
        {
          "output_type": "stream",
          "name": "stdout",
          "text": [
            "Primeiro termo: 0\n",
            "Razão da PA: 3\n",
            "0 - 3 - 6 - 9 - 12 - 15 - 18 - 21 - 24 - 27 - Pausa\n",
            "Quantos termos você quer mostrar a mais? 2\n",
            "30 - 33 - Pausa\n",
            "Quantos termos você quer mostrar a mais? 0\n",
            "Fim\n"
          ]
        }
      ]
    },
    {
      "cell_type": "code",
      "source": [
        "#Escreva um programa que leia um número n inteiro qualquer e mostre na tela os\n",
        "#os n primeiros elementos de um Sequência de Fibonacci\n",
        "#Ex: 0 - 1 - 1 - 2 - 3 - 5 - 8\n",
        "\n",
        "n = int(input(\"Quantos termos você quer mostrar? \"))\n",
        "\n",
        "t1 = 0\n",
        "t2 = 1\n",
        "print(f'{t1} - {t2}', end=\"\")\n",
        "\n",
        "cont = 3\n",
        "while cont <= n:\n",
        "  t3 = t1 + t2\n",
        "  print(f\" - {t3}\", end=\"\")\n",
        "  t1 = t2\n",
        "  t2 = t3\n",
        "  cont += 1\n",
        "\n",
        "print(' - Fim')\n",
        "\n"
      ],
      "metadata": {
        "colab": {
          "base_uri": "https://localhost:8080/"
        },
        "id": "YCo81_waPUiR",
        "outputId": "99b99cf4-74a1-47be-c294-302769e836dd"
      },
      "execution_count": null,
      "outputs": [
        {
          "output_type": "stream",
          "name": "stdout",
          "text": [
            "Quantos termos você quer mostrar? 10\n",
            "0 - 1 - 1 - 2 - 3 - 5 - 8 - 13 - 21 - 34 - Fim\n"
          ]
        }
      ]
    },
    {
      "cell_type": "code",
      "source": [
        "soma = 0\n",
        "\n",
        "while True:\n",
        "  numero = int(input(\"Digite um número para ser somado\\nCaso você digite 999, o programa será interrompido: \"))\n",
        "\n",
        "  if numero == 999:\n",
        "    break\n",
        "\n",
        "  soma += numero\n",
        "\n",
        "print(f\"A soma dos números é: {soma}\")"
      ],
      "metadata": {
        "colab": {
          "base_uri": "https://localhost:8080/"
        },
        "id": "Fyq15KnJRTp8",
        "outputId": "204de759-5cf5-4593-fbda-3317188f0817"
      },
      "execution_count": null,
      "outputs": [
        {
          "output_type": "stream",
          "name": "stdout",
          "text": [
            "Digite um número para ser somado\n",
            "Caso você digite 999, o programa será interrompido: 6\n",
            "Digite um número para ser somado\n",
            "Caso você digite 999, o programa será interrompido: 44\n",
            "Digite um número para ser somado\n",
            "Caso você digite 999, o programa será interrompido: 22\n",
            "Digite um número para ser somado\n",
            "Caso você digite 999, o programa será interrompido: 999\n",
            "A soma dos números é: 72\n"
          ]
        }
      ]
    },
    {
      "cell_type": "code",
      "source": [
        "resp = \"S\"\n",
        "soma = quant = media = maior = menor = 0\n",
        "\n",
        "while resp in \"Ss\":\n",
        "  num = int(input(\"Digite um número: \"))\n",
        "  soma += num\n",
        "  quant += 1\n",
        "  if quant == 1:\n",
        "    maior = menor = num\n",
        "  else:\n",
        "    if num > maior:\n",
        "      maior = num\n",
        "    if num < maior:\n",
        "      menor = num\n",
        "\n",
        "  resp = input(\"Quer continuar? [S/N] \").upper().strip()[0]\n",
        "\n",
        "media = soma / quant\n",
        "\n",
        "print(f'Você digitou {quant} e a média foi {media:.2f}')\n",
        "print(f\"O maior valor foi {maior} e o menor foi {menor}\")"
      ],
      "metadata": {
        "colab": {
          "base_uri": "https://localhost:8080/"
        },
        "id": "0fNrwvJDSaUT",
        "outputId": "aa1c8910-fc6c-4e02-e65b-70038330cda8"
      },
      "execution_count": null,
      "outputs": [
        {
          "output_type": "stream",
          "name": "stdout",
          "text": [
            "Digite um número: 4\n",
            "Quer continuar? [S/N] s\n",
            "Digite um número: 6\n",
            "Quer continuar? [S/N] s\n",
            "Digite um número: 7\n",
            "Quer continuar? [S/N] n\n",
            "Você digitou 3 e a média foi 5.67\n",
            "O maior valor foi 7 e o menor foi 4\n"
          ]
        }
      ]
    }
  ],
  "metadata": {
    "colab": {
      "provenance": [],
      "authorship_tag": "ABX9TyOtb0JVJBcCNFkG6oWt46Tu",
      "include_colab_link": true
    },
    "kernelspec": {
      "display_name": "Python 3",
      "name": "python3"
    },
    "language_info": {
      "name": "python"
    }
  },
  "nbformat": 4,
  "nbformat_minor": 0
}